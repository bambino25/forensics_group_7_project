{
 "cells": [
  {
   "cell_type": "code",
   "execution_count": 3,
   "metadata": {},
   "outputs": [],
   "source": [
    "import pandas as pd\n",
    "import numpy as np\n",
    "import os\n",
    "import sys\n",
    "import bs4\n",
    "import tqdm\n",
    "from pathlib import Path\n",
    "import shutil\n",
    "import filecmp\n",
    "from collections import Counter\n",
    "import json\n",
    "import requests\n",
    "from bs4 import BeautifulSoup\n",
    "import re"
   ]
  },
  {
   "cell_type": "markdown",
   "metadata": {},
   "source": [
    "Given are files from a darkweb forum. The data is raw and semi-structured in html format.\n",
    "\n",
    "Goal, csv File with cols: id, messageId, datetime, isReply, userId, messageContent, replies, links\n",
    "- threadId: unique identifier for the thread\n",
    "- messageId: unique identifier for the message within the thread (unique identifier)\n",
    "- datetime: timestamp of the message\n",
    "- isReply: boolean indicating if the message is a reply to another message\n",
    "- userId: unique identifier for the user within the thread\n",
    "- messageContent: the message content (UTF-8 encoded)\n",
    "- replies: list of number of replies to this message message\n",
    "- links: list of links in the message content\n",
    "\n",
    "Process:\n",
    "1. Create csv file with the columns: id, messageId, datetime, isReply, userId, messageContent, replies, links\n",
    "2. Filter for just thread html files.\n",
    "3. Give the html file to a LLM to extract the data, with a predefined prompt.\n",
    "4. Append the data to the csv file."
   ]
  },
  {
   "cell_type": "code",
   "execution_count": 4,
   "metadata": {},
   "outputs": [],
   "source": [
    "DEFAULT_DIR = Path(\"../data/\")\n",
    "\n",
    "# Create csv file\n",
    "# df_path = DEFAULT_DIR / \"data.csv\"\n",
    "# if not Path.exists(df_path):\n",
    "#     cols = ['threadId', 'messageId', 'datetime', 'isReply', 'userId', 'messageContent', 'replies', 'links']\n",
    "#     df = pd.DataFrame(columns=cols)\n",
    "#     df.set_index('messageId', inplace=True)\n",
    "#     df.to_csv(df_path)\n"
   ]
  },
  {
   "cell_type": "code",
   "execution_count": 42,
   "metadata": {},
   "outputs": [
    {
     "name": "stderr",
     "output_type": "stream",
     "text": [
      "100%|██████████| 7118/7118 [00:13<00:00, 520.82it/s]\n"
     ]
    },
    {
     "name": "stdout",
     "output_type": "stream",
     "text": [
      "Folders Path: ['../data/media', '../data/preview', '../data/static', '../data/boards', '../data/other', '../data/threads']\n",
      "Folder: ../data/media\n",
      "Number of files: 1194\n"
     ]
    },
    {
     "name": "stderr",
     "output_type": "stream",
     "text": [
      "Processing duplicates: 100%|██████████| 1194/1194 [00:00<00:00, 9395870.50it/s]\n"
     ]
    },
    {
     "name": "stdout",
     "output_type": "stream",
     "text": [
      "number Duplicates: 0\n",
      "Duplicates: []\n",
      "Removed files: []\n",
      "Number of files after removing duplicates: 1194\n",
      "Folder: ../data/preview\n",
      "Number of files: 1706\n"
     ]
    },
    {
     "name": "stderr",
     "output_type": "stream",
     "text": [
      "Processing duplicates: 100%|██████████| 1706/1706 [00:00<00:00, 10207535.84it/s]\n"
     ]
    },
    {
     "name": "stdout",
     "output_type": "stream",
     "text": [
      "number Duplicates: 0\n",
      "Duplicates: []\n",
      "Removed files: []\n",
      "Number of files after removing duplicates: 1706\n",
      "Folder: ../data/static\n",
      "Number of files: 41\n"
     ]
    },
    {
     "name": "stderr",
     "output_type": "stream",
     "text": [
      "Processing duplicates: 100%|██████████| 41/41 [00:00<00:00, 1637775.85it/s]\n"
     ]
    },
    {
     "name": "stdout",
     "output_type": "stream",
     "text": [
      "number Duplicates: 0\n",
      "Duplicates: []\n",
      "Removed files: []\n",
      "Number of files after removing duplicates: 41\n",
      "Folder: ../data/boards\n",
      "Number of files: 161\n"
     ]
    },
    {
     "name": "stderr",
     "output_type": "stream",
     "text": [
      "Processing duplicates: 100%|██████████| 161/161 [00:00<00:00, 5535106.10it/s]\n"
     ]
    },
    {
     "name": "stdout",
     "output_type": "stream",
     "text": [
      "number Duplicates: 0\n",
      "Duplicates: []\n",
      "Removed files: []\n",
      "Number of files after removing duplicates: 161\n",
      "Folder: ../data/other\n",
      "Number of files: 46\n"
     ]
    },
    {
     "name": "stderr",
     "output_type": "stream",
     "text": [
      "Processing duplicates: 100%|██████████| 45/45 [00:00<00:00, 2359296.00it/s]\n"
     ]
    },
    {
     "name": "stdout",
     "output_type": "stream",
     "text": [
      "number Duplicates: 1\n",
      "Duplicates: ['hctxrvjzfpvmzh2jllqhgvvkoepxb4kfzdjm6h7egcwlumggtktiftid.onion_rs.html']\n",
      "Removed files: ['hctxrvjzfpvmzh2jllqhgvvkoepxb4kfzdjm6h7egcwlumggtktiftid.onion_rs.html#search.html']\n",
      "Number of files after removing duplicates: 45\n",
      "Folder: ../data/threads\n",
      "Number of files: 3970\n"
     ]
    },
    {
     "name": "stderr",
     "output_type": "stream",
     "text": [
      "Processing duplicates: 100%|██████████| 187/187 [00:00<00:00, 5335611.21it/s]\n"
     ]
    },
    {
     "name": "stdout",
     "output_type": "stream",
     "text": [
      "number Duplicates: 76\n",
      "Duplicates: ['enxx3byspwsdo446jujc52ucy2pf5urdbhqw3kbsfhlfjwmbpj5smdad.onion_qanonresearch_res_56237.html', 'enxx3byspwsdo446jujc52ucy2pf5urdbhqw3kbsfhlfjwmbpj5smdad.onion_qanonresearch_res_19890.html', 'enxx3byspwsdo446jujc52ucy2pf5urdbhqw3kbsfhlfjwmbpj5smdad.onion_qanonresearch_res_24483.html', 'enxx3byspwsdo446jujc52ucy2pf5urdbhqw3kbsfhlfjwmbpj5smdad.onion_qanonresearch_res_23563.html', 'enxx3byspwsdo446jujc52ucy2pf5urdbhqw3kbsfhlfjwmbpj5smdad.onion_qanonresearch_res_15758.html', 'enxx3byspwsdo446jujc52ucy2pf5urdbhqw3kbsfhlfjwmbpj5smdad.onion_qanonresearch_res_34921.html', 'enxx3byspwsdo446jujc52ucy2pf5urdbhqw3kbsfhlfjwmbpj5smdad.onion_qanonresearch_res_25260.html', 'enxx3byspwsdo446jujc52ucy2pf5urdbhqw3kbsfhlfjwmbpj5smdad.onion_agatha2_res_116498.html', 'enxx3byspwsdo446jujc52ucy2pf5urdbhqw3kbsfhlfjwmbpj5smdad.onion_agatha2_res_131387.html', 'enxx3byspwsdo446jujc52ucy2pf5urdbhqw3kbsfhlfjwmbpj5smdad.onion_qanonresearch_res_960.html', 'enxx3byspwsdo446jujc52ucy2pf5urdbhqw3kbsfhlfjwmbpj5smdad.onion_qanonresearch_res_21400.html', 'enxx3byspwsdo446jujc52ucy2pf5urdbhqw3kbsfhlfjwmbpj5smdad.onion_qanonresearch_res_31635.html', 'enxx3byspwsdo446jujc52ucy2pf5urdbhqw3kbsfhlfjwmbpj5smdad.onion_qanonresearch_res_34091.html', 'enxx3byspwsdo446jujc52ucy2pf5urdbhqw3kbsfhlfjwmbpj5smdad.onion_qanonresearch_res_33253.html', 'enxx3byspwsdo446jujc52ucy2pf5urdbhqw3kbsfhlfjwmbpj5smdad.onion_bb_res_156749.html', 'enxx3byspwsdo446jujc52ucy2pf5urdbhqw3kbsfhlfjwmbpj5smdad.onion_kanojo_res_91098.html', 'enxx3byspwsdo446jujc52ucy2pf5urdbhqw3kbsfhlfjwmbpj5smdad.onion_qanonresearch_res_21963.html', 'enxx3byspwsdo446jujc52ucy2pf5urdbhqw3kbsfhlfjwmbpj5smdad.onion_qanonresearch_res_18403.html', 'enxx3byspwsdo446jujc52ucy2pf5urdbhqw3kbsfhlfjwmbpj5smdad.onion_polru_res_725333.html', 'enxx3byspwsdo446jujc52ucy2pf5urdbhqw3kbsfhlfjwmbpj5smdad.onion_baaa2_res_26237.html', 'enxx3byspwsdo446jujc52ucy2pf5urdbhqw3kbsfhlfjwmbpj5smdad.onion_qanonresearch_res_22782.html', 'enxx3byspwsdo446jujc52ucy2pf5urdbhqw3kbsfhlfjwmbpj5smdad.onion_baaa2_res_24536.html', 'enxx3byspwsdo446jujc52ucy2pf5urdbhqw3kbsfhlfjwmbpj5smdad.onion_polru_res_128014.html', 'enxx3byspwsdo446jujc52ucy2pf5urdbhqw3kbsfhlfjwmbpj5smdad.onion_rus_res_52769.html', 'enxx3byspwsdo446jujc52ucy2pf5urdbhqw3kbsfhlfjwmbpj5smdad.onion_qanonresearch_res_36593.html', 'enxx3byspwsdo446jujc52ucy2pf5urdbhqw3kbsfhlfjwmbpj5smdad.onion_qanonresearch_res_13307.html', 'enxx3byspwsdo446jujc52ucy2pf5urdbhqw3kbsfhlfjwmbpj5smdad.onion_qanonresearch_res_15186.html', 'enxx3byspwsdo446jujc52ucy2pf5urdbhqw3kbsfhlfjwmbpj5smdad.onion_qanonresearch_res_14155.html', 'enxx3byspwsdo446jujc52ucy2pf5urdbhqw3kbsfhlfjwmbpj5smdad.onion_qanonresearch_res_16566.html', 'enxx3byspwsdo446jujc52ucy2pf5urdbhqw3kbsfhlfjwmbpj5smdad.onion_punasipuli_res_1747.html', 'enxx3byspwsdo446jujc52ucy2pf5urdbhqw3kbsfhlfjwmbpj5smdad.onion_fag_res_6.html', 'enxx3byspwsdo446jujc52ucy2pf5urdbhqw3kbsfhlfjwmbpj5smdad.onion_polru_res_675305.html', 'enxx3byspwsdo446jujc52ucy2pf5urdbhqw3kbsfhlfjwmbpj5smdad.onion_rus_res_8261.html', 'enxx3byspwsdo446jujc52ucy2pf5urdbhqw3kbsfhlfjwmbpj5smdad.onion_bb_res_162138.html', 'enxx3byspwsdo446jujc52ucy2pf5urdbhqw3kbsfhlfjwmbpj5smdad.onion_ethernet_res_163.html', 'enxx3byspwsdo446jujc52ucy2pf5urdbhqw3kbsfhlfjwmbpj5smdad.onion_baaa2_res_37257.html', 'enxx3byspwsdo446jujc52ucy2pf5urdbhqw3kbsfhlfjwmbpj5smdad.onion_baaa2_res_45143.html', 'enxx3byspwsdo446jujc52ucy2pf5urdbhqw3kbsfhlfjwmbpj5smdad.onion_nuro_res_346.html', 'enxx3byspwsdo446jujc52ucy2pf5urdbhqw3kbsfhlfjwmbpj5smdad.onion_rus_res_69614.html', 'enxx3byspwsdo446jujc52ucy2pf5urdbhqw3kbsfhlfjwmbpj5smdad.onion_qanonresearch_res_5484.html', 'enxx3byspwsdo446jujc52ucy2pf5urdbhqw3kbsfhlfjwmbpj5smdad.onion_qanonresearch_res_17563.html', 'enxx3byspwsdo446jujc52ucy2pf5urdbhqw3kbsfhlfjwmbpj5smdad.onion_agatha2_res_105503.html', 'enxx3byspwsdo446jujc52ucy2pf5urdbhqw3kbsfhlfjwmbpj5smdad.onion_bb_res_159729.html', 'enxx3byspwsdo446jujc52ucy2pf5urdbhqw3kbsfhlfjwmbpj5smdad.onion_baaa2_res_38445.html', 'enxx3byspwsdo446jujc52ucy2pf5urdbhqw3kbsfhlfjwmbpj5smdad.onion_bb_res_147415.html', 'enxx3byspwsdo446jujc52ucy2pf5urdbhqw3kbsfhlfjwmbpj5smdad.onion_qanonresearch_res_14953.html', 'enxx3byspwsdo446jujc52ucy2pf5urdbhqw3kbsfhlfjwmbpj5smdad.onion_nido_res_15169.html', 'enxx3byspwsdo446jujc52ucy2pf5urdbhqw3kbsfhlfjwmbpj5smdad.onion', 'enxx3byspwsdo446jujc52ucy2pf5urdbhqw3kbsfhlfjwmbpj5smdad.onion_ethernet_res_199.html', 'enxx3byspwsdo446jujc52ucy2pf5urdbhqw3kbsfhlfjwmbpj5smdad.onion_qanonresearch_res_57050.html', 'enxx3byspwsdo446jujc52ucy2pf5urdbhqw3kbsfhlfjwmbpj5smdad.onion_qanonresearch_res_6254.html', 'enxx3byspwsdo446jujc52ucy2pf5urdbhqw3kbsfhlfjwmbpj5smdad.onion_qanonresearch_res_20926.html', 'enxx3byspwsdo446jujc52ucy2pf5urdbhqw3kbsfhlfjwmbpj5smdad.onion_bb_res_154231.html', 'enxx3byspwsdo446jujc52ucy2pf5urdbhqw3kbsfhlfjwmbpj5smdad.onion_rus_res_72506.html', 'enxx3byspwsdo446jujc52ucy2pf5urdbhqw3kbsfhlfjwmbpj5smdad.onion_pol_res_102637.html', 'enxx3byspwsdo446jujc52ucy2pf5urdbhqw3kbsfhlfjwmbpj5smdad.onion_agatha2_res_70632.html', 'enxx3byspwsdo446jujc52ucy2pf5urdbhqw3kbsfhlfjwmbpj5smdad.onion_agatha2_res_109420.html', 'enxx3byspwsdo446jujc52ucy2pf5urdbhqw3kbsfhlfjwmbpj5smdad.onion_baaa2_res_44840.html', 'enxx3byspwsdo446jujc52ucy2pf5urdbhqw3kbsfhlfjwmbpj5smdad.onion_test_res_5695.html', 'enxx3byspwsdo446jujc52ucy2pf5urdbhqw3kbsfhlfjwmbpj5smdad.onion_qanonresearch_res_10210.html', 'enxx3byspwsdo446jujc52ucy2pf5urdbhqw3kbsfhlfjwmbpj5smdad.onion_punasipuli_res_945.html', 'enxx3byspwsdo446jujc52ucy2pf5urdbhqw3kbsfhlfjwmbpj5smdad.onion_polru_res_417699.html', 'enxx3byspwsdo446jujc52ucy2pf5urdbhqw3kbsfhlfjwmbpj5smdad.onion_qanonresearch_res_57051.html', 'enxx3byspwsdo446jujc52ucy2pf5urdbhqw3kbsfhlfjwmbpj5smdad.onion_ethernet_res_154.html', 'enxx3byspwsdo446jujc52ucy2pf5urdbhqw3kbsfhlfjwmbpj5smdad.onion_rapport_res_62759.html', 'enxx3byspwsdo446jujc52ucy2pf5urdbhqw3kbsfhlfjwmbpj5smdad.onion_rus_res_80423.html', 'enxx3byspwsdo446jujc52ucy2pf5urdbhqw3kbsfhlfjwmbpj5smdad.onion_neetlyfe_res_695.html', 'enxx3byspwsdo446jujc52ucy2pf5urdbhqw3kbsfhlfjwmbpj5smdad.onion_ethernet_res_165.html', 'enxx3byspwsdo446jujc52ucy2pf5urdbhqw3kbsfhlfjwmbpj5smdad.onion_ethernet_res_164.html', 'enxx3byspwsdo446jujc52ucy2pf5urdbhqw3kbsfhlfjwmbpj5smdad.onion_qanonresearch_res_57052.html', 'enxx3byspwsdo446jujc52ucy2pf5urdbhqw3kbsfhlfjwmbpj5smdad.onion_qanonresearch_res_57054.html', 'enxx3byspwsdo446jujc52ucy2pf5urdbhqw3kbsfhlfjwmbpj5smdad.onion_agatha2_res_131379.html', 'enxx3byspwsdo446jujc52ucy2pf5urdbhqw3kbsfhlfjwmbpj5smdad.onion_ethernet_res_161.html', 'enxx3byspwsdo446jujc52ucy2pf5urdbhqw3kbsfhlfjwmbpj5smdad.onion_agatha2_res_105937.html', 'enxx3byspwsdo446jujc52ucy2pf5urdbhqw3kbsfhlfjwmbpj5smdad.onion_qanonresearch_res_57055.html', 'enxx3byspwsdo446jujc52ucy2pf5urdbhqw3kbsfhlfjwmbpj5smdad.onion_qanonresearch_res_19231.html']\n",
      "Removed files: ['enxx3byspwsdo446jujc52ucy2pf5urdbhqw3kbsfhlfjwmbpj5smdad.onion_qanonresearch_res_56237.html#q56806.html', 'enxx3byspwsdo446jujc52ucy2pf5urdbhqw3kbsfhlfjwmbpj5smdad.onion_qanonresearch_res_19890.html#21523.html', 'enxx3byspwsdo446jujc52ucy2pf5urdbhqw3kbsfhlfjwmbpj5smdad.onion_qanonresearch_res_24483.html#q25159.html', 'enxx3byspwsdo446jujc52ucy2pf5urdbhqw3kbsfhlfjwmbpj5smdad.onion_qanonresearch_res_23563.html#q23655.html', 'enxx3byspwsdo446jujc52ucy2pf5urdbhqw3kbsfhlfjwmbpj5smdad.onion_qanonresearch_res_15758.html#16248.html', 'enxx3byspwsdo446jujc52ucy2pf5urdbhqw3kbsfhlfjwmbpj5smdad.onion_qanonresearch_res_34921.html#35747.html', 'enxx3byspwsdo446jujc52ucy2pf5urdbhqw3kbsfhlfjwmbpj5smdad.onion_qanonresearch_res_25260.html#q26036.html', 'enxx3byspwsdo446jujc52ucy2pf5urdbhqw3kbsfhlfjwmbpj5smdad.onion_agatha2_res_116498.html#q131495.html', 'enxx3byspwsdo446jujc52ucy2pf5urdbhqw3kbsfhlfjwmbpj5smdad.onion_agatha2_res_131387.html#131599.html', 'enxx3byspwsdo446jujc52ucy2pf5urdbhqw3kbsfhlfjwmbpj5smdad.onion_qanonresearch_res_960.html#6128.html', 'enxx3byspwsdo446jujc52ucy2pf5urdbhqw3kbsfhlfjwmbpj5smdad.onion_qanonresearch_res_21400.html#q45387.html', 'enxx3byspwsdo446jujc52ucy2pf5urdbhqw3kbsfhlfjwmbpj5smdad.onion_qanonresearch_res_31635.html#31933.html', 'enxx3byspwsdo446jujc52ucy2pf5urdbhqw3kbsfhlfjwmbpj5smdad.onion_qanonresearch_res_34091.html#34270.html', 'enxx3byspwsdo446jujc52ucy2pf5urdbhqw3kbsfhlfjwmbpj5smdad.onion_qanonresearch_res_33253.html#33580.html', 'enxx3byspwsdo446jujc52ucy2pf5urdbhqw3kbsfhlfjwmbpj5smdad.onion_bb_res_156749.html#172916.html', 'enxx3byspwsdo446jujc52ucy2pf5urdbhqw3kbsfhlfjwmbpj5smdad.onion_kanojo_res_91098.html#q135564.html', 'enxx3byspwsdo446jujc52ucy2pf5urdbhqw3kbsfhlfjwmbpj5smdad.onion_qanonresearch_res_21963.html#22619.html', 'enxx3byspwsdo446jujc52ucy2pf5urdbhqw3kbsfhlfjwmbpj5smdad.onion_qanonresearch_res_18403.html#18706.html', 'enxx3byspwsdo446jujc52ucy2pf5urdbhqw3kbsfhlfjwmbpj5smdad.onion_polru_res_725333.html#q726640.html', 'enxx3byspwsdo446jujc52ucy2pf5urdbhqw3kbsfhlfjwmbpj5smdad.onion_baaa2_res_26237.html#q45154.html', 'enxx3byspwsdo446jujc52ucy2pf5urdbhqw3kbsfhlfjwmbpj5smdad.onion_qanonresearch_res_22782.html#22888.html', 'enxx3byspwsdo446jujc52ucy2pf5urdbhqw3kbsfhlfjwmbpj5smdad.onion_baaa2_res_24536.html#24536.html', 'enxx3byspwsdo446jujc52ucy2pf5urdbhqw3kbsfhlfjwmbpj5smdad.onion_polru_res_128014.html#q726631.html', 'enxx3byspwsdo446jujc52ucy2pf5urdbhqw3kbsfhlfjwmbpj5smdad.onion_rus_res_52769.html#80345.html', 'enxx3byspwsdo446jujc52ucy2pf5urdbhqw3kbsfhlfjwmbpj5smdad.onion_qanonresearch_res_36593.html#36830.html', 'enxx3byspwsdo446jujc52ucy2pf5urdbhqw3kbsfhlfjwmbpj5smdad.onion_qanonresearch_res_13307.html#13342.html', 'enxx3byspwsdo446jujc52ucy2pf5urdbhqw3kbsfhlfjwmbpj5smdad.onion_qanonresearch_res_15186.html#21466.html', 'enxx3byspwsdo446jujc52ucy2pf5urdbhqw3kbsfhlfjwmbpj5smdad.onion_qanonresearch_res_14155.html#14814.html', 'enxx3byspwsdo446jujc52ucy2pf5urdbhqw3kbsfhlfjwmbpj5smdad.onion_qanonresearch_res_16566.html#16712.html', 'enxx3byspwsdo446jujc52ucy2pf5urdbhqw3kbsfhlfjwmbpj5smdad.onion_punasipuli_res_1747.html#q3934.html', 'enxx3byspwsdo446jujc52ucy2pf5urdbhqw3kbsfhlfjwmbpj5smdad.onion_fag_res_6.html#q161.html', 'enxx3byspwsdo446jujc52ucy2pf5urdbhqw3kbsfhlfjwmbpj5smdad.onion_polru_res_675305.html#726095.html', 'enxx3byspwsdo446jujc52ucy2pf5urdbhqw3kbsfhlfjwmbpj5smdad.onion_rus_res_8261.html#q80324.html', 'enxx3byspwsdo446jujc52ucy2pf5urdbhqw3kbsfhlfjwmbpj5smdad.onion_bb_res_162138.html#q162138.html', 'enxx3byspwsdo446jujc52ucy2pf5urdbhqw3kbsfhlfjwmbpj5smdad.onion_ethernet_res_163.html.html', 'enxx3byspwsdo446jujc52ucy2pf5urdbhqw3kbsfhlfjwmbpj5smdad.onion_baaa2_res_37257.html#37651.html', 'enxx3byspwsdo446jujc52ucy2pf5urdbhqw3kbsfhlfjwmbpj5smdad.onion_baaa2_res_45143.html#45143.html', 'enxx3byspwsdo446jujc52ucy2pf5urdbhqw3kbsfhlfjwmbpj5smdad.onion_nuro_res_346.html#q422.html', 'enxx3byspwsdo446jujc52ucy2pf5urdbhqw3kbsfhlfjwmbpj5smdad.onion_rus_res_69614.html#80315.html', 'enxx3byspwsdo446jujc52ucy2pf5urdbhqw3kbsfhlfjwmbpj5smdad.onion_qanonresearch_res_5484.html#5778.html', 'enxx3byspwsdo446jujc52ucy2pf5urdbhqw3kbsfhlfjwmbpj5smdad.onion_qanonresearch_res_17563.html#18223.html', 'enxx3byspwsdo446jujc52ucy2pf5urdbhqw3kbsfhlfjwmbpj5smdad.onion_agatha2_res_105503.html#q131580.html', 'enxx3byspwsdo446jujc52ucy2pf5urdbhqw3kbsfhlfjwmbpj5smdad.onion_bb_res_159729.html#q172745.html', 'enxx3byspwsdo446jujc52ucy2pf5urdbhqw3kbsfhlfjwmbpj5smdad.onion_baaa2_res_38445.html#45133.html', 'enxx3byspwsdo446jujc52ucy2pf5urdbhqw3kbsfhlfjwmbpj5smdad.onion_bb_res_147415.html#q172948.html', 'enxx3byspwsdo446jujc52ucy2pf5urdbhqw3kbsfhlfjwmbpj5smdad.onion_qanonresearch_res_14953.html#15538.html', 'enxx3byspwsdo446jujc52ucy2pf5urdbhqw3kbsfhlfjwmbpj5smdad.onion_nido_res_15169.html#15169.html', 'enxx3byspwsdo446jujc52ucy2pf5urdbhqw3kbsfhlfjwmbpj5smdad.onion_qanonresearch_res_23563.html#24172.html', 'enxx3byspwsdo446jujc52ucy2pf5urdbhqw3kbsfhlfjwmbpj5smdad.onion_ethernet_res_199.html#200.html', 'enxx3byspwsdo446jujc52ucy2pf5urdbhqw3kbsfhlfjwmbpj5smdad.onion_qanonresearch_res_57050.html#q57050.html', 'enxx3byspwsdo446jujc52ucy2pf5urdbhqw3kbsfhlfjwmbpj5smdad.onion_qanonresearch_res_6254.html#6509.html', 'enxx3byspwsdo446jujc52ucy2pf5urdbhqw3kbsfhlfjwmbpj5smdad.onion_qanonresearch_res_20926.html#21849.html', 'enxx3byspwsdo446jujc52ucy2pf5urdbhqw3kbsfhlfjwmbpj5smdad.onion_bb_res_154231.html#172939.html', 'enxx3byspwsdo446jujc52ucy2pf5urdbhqw3kbsfhlfjwmbpj5smdad.onion_rus_res_72506.html#q80369.html', 'enxx3byspwsdo446jujc52ucy2pf5urdbhqw3kbsfhlfjwmbpj5smdad.onion_pol_res_102637.html#102648.html', 'enxx3byspwsdo446jujc52ucy2pf5urdbhqw3kbsfhlfjwmbpj5smdad.onion_agatha2_res_70632.html#131428.html', 'enxx3byspwsdo446jujc52ucy2pf5urdbhqw3kbsfhlfjwmbpj5smdad.onion_agatha2_res_109420.html#131584.html', 'enxx3byspwsdo446jujc52ucy2pf5urdbhqw3kbsfhlfjwmbpj5smdad.onion_baaa2_res_44840.html#q45182.html', 'enxx3byspwsdo446jujc52ucy2pf5urdbhqw3kbsfhlfjwmbpj5smdad.onion_test_res_5695.html.html', 'enxx3byspwsdo446jujc52ucy2pf5urdbhqw3kbsfhlfjwmbpj5smdad.onion_qanonresearch_res_10210.html#10959.html', 'enxx3byspwsdo446jujc52ucy2pf5urdbhqw3kbsfhlfjwmbpj5smdad.onion_punasipuli_res_945.html#q1912.html', 'enxx3byspwsdo446jujc52ucy2pf5urdbhqw3kbsfhlfjwmbpj5smdad.onion_polru_res_417699.html#q726308.html', 'enxx3byspwsdo446jujc52ucy2pf5urdbhqw3kbsfhlfjwmbpj5smdad.onion_qanonresearch_res_57051.html#q57051.html', 'enxx3byspwsdo446jujc52ucy2pf5urdbhqw3kbsfhlfjwmbpj5smdad.onion_ethernet_res_154.html#155.html', 'enxx3byspwsdo446jujc52ucy2pf5urdbhqw3kbsfhlfjwmbpj5smdad.onion_rapport_res_62759.html.html', 'enxx3byspwsdo446jujc52ucy2pf5urdbhqw3kbsfhlfjwmbpj5smdad.onion_rus_res_80423.html#q80423.html', 'enxx3byspwsdo446jujc52ucy2pf5urdbhqw3kbsfhlfjwmbpj5smdad.onion_neetlyfe_res_695.html#695.html', 'enxx3byspwsdo446jujc52ucy2pf5urdbhqw3kbsfhlfjwmbpj5smdad.onion_ethernet_res_165.html.html', 'enxx3byspwsdo446jujc52ucy2pf5urdbhqw3kbsfhlfjwmbpj5smdad.onion_ethernet_res_164.html.html', 'enxx3byspwsdo446jujc52ucy2pf5urdbhqw3kbsfhlfjwmbpj5smdad.onion_qanonresearch_res_57052.html#q57052.html', 'enxx3byspwsdo446jujc52ucy2pf5urdbhqw3kbsfhlfjwmbpj5smdad.onion_qanonresearch_res_57054.html#q57054.html', 'enxx3byspwsdo446jujc52ucy2pf5urdbhqw3kbsfhlfjwmbpj5smdad.onion_agatha2_res_131379.html#q131379.html', 'enxx3byspwsdo446jujc52ucy2pf5urdbhqw3kbsfhlfjwmbpj5smdad.onion_ethernet_res_161.html.html', 'enxx3byspwsdo446jujc52ucy2pf5urdbhqw3kbsfhlfjwmbpj5smdad.onion_agatha2_res_105937.html#131424.html', 'enxx3byspwsdo446jujc52ucy2pf5urdbhqw3kbsfhlfjwmbpj5smdad.onion_qanonresearch_res_57055.html.html', 'enxx3byspwsdo446jujc52ucy2pf5urdbhqw3kbsfhlfjwmbpj5smdad.onion_qanonresearch_res_19231.html#19629.html']\n",
      "Number of files after removing duplicates: 3894\n"
     ]
    }
   ],
   "source": [
    "class FilenamePreselector:\n",
    "    ''' Selects the right files to further process by filtering them based on their filename'''\n",
    "    def __init__(self, root_dir):\n",
    "        self.root_dir = root_dir\n",
    "        folders = [\"media\", \"preview\", \"static\", \"boards\", \"other\", \"threads\"]\n",
    "        self.FOLDERS_PATH = [os.path.join(DEFAULT_DIR, folder) for folder in folders]\n",
    "        [os.makedirs(folder, exist_ok=True) for folder in self.FOLDERS_PATH] # Create the folders if they don't exist\n",
    "\n",
    "    # Function to detect if html file is valid by filename\n",
    "    def is_media(self, filename):\n",
    "        '''If the filename contains \".png\" or \".jpg\" or \".jpeg\", we consider it as an image'''\n",
    "        extensions = [\".png\", \".jpg\", \".jpeg\", \".gif\", \"_.media_\"]\n",
    "        if any(ext in filename for ext in extensions):\n",
    "            return True\n",
    "        return False\n",
    "\n",
    "    def is_preview(self, filename):\n",
    "        '''If the filename contains \"_preview_\" we consider it as a preview'''\n",
    "        if \"_preview_\" in filename:\n",
    "            return True\n",
    "        return False\n",
    "\n",
    "    def is_static(self, filename):\n",
    "        '''If the filename contains \"_.static_\" we consider it as a static file'''\n",
    "        if \"_.static_\" in filename:\n",
    "            return True\n",
    "        return False\n",
    "\n",
    "    def is_boards(self, filename):\n",
    "        '''If the filename contains \"_boards.js\" we consider it as a boards file'''\n",
    "        if \"_boards.js\" in filename:\n",
    "            return True\n",
    "        return False\n",
    "\n",
    "    def not_target_url(self, filename):\n",
    "        '''If the filename does not start with taget url '''\n",
    "        target_url = \"enxx3byspwsdo446jujc52ucy2pf5urdbhqw3kbsfhlfjwmbpj5smdad.onion\"\n",
    "        if filename.startswith(target_url):\n",
    "            return False\n",
    "        return True\n",
    "    \n",
    "    def sort_by_extension(self):\n",
    "        function_folder_path = [\n",
    "                (self.is_media, self.FOLDERS_PATH[0]),\n",
    "                (self.is_preview, self.FOLDERS_PATH[1]),\n",
    "                (self.is_static, self.FOLDERS_PATH[2]),\n",
    "                (self.is_boards, self.FOLDERS_PATH[3]),\n",
    "                (self.not_target_url, self.FOLDERS_PATH[4]),\n",
    "                (lambda x: True, self.FOLDERS_PATH[5]), # Default case for other files\n",
    "        ]\n",
    "        files_per_folders = Counter(\n",
    "            {folder_path: 0 for _, folder_path in function_folder_path} # Initialize the counter for each folder\n",
    "        )\n",
    "        # Loop through all files in the folder, and put them in the right folder use all three functions above for that\n",
    "        try:\n",
    "            for filename in tqdm.tqdm([f for f in os.listdir(self.root_dir) if os.path.isfile(os.path.join(self.root_dir, f))]):\n",
    "                for function, folder_path in function_folder_path:\n",
    "                    if function(filename):\n",
    "                        # Copy the file to the right folder\n",
    "                        source_path = os.path.join(self.root_dir, filename)\n",
    "                        destination_path = os.path.join(folder_path, filename)\n",
    "                        #print(source_path, destination_path)\n",
    "                        # If file already exists, overwrite it\n",
    "                        shutil.copy(source_path, destination_path)\n",
    "                        # Increment the counter for the folder\n",
    "                        files_per_folders[folder_path] += 1\n",
    "                        # Break the loop once the file is moved\n",
    "                        break\n",
    "        except Exception as e:\n",
    "            print(f\"An error occurred: {e}\")\n",
    "\n",
    "        finally:\n",
    "            return files_per_folders\n",
    "\n",
    "    def remove_hash(self, filename):\n",
    "        '''Remove the hash from the filename'''\n",
    "        if \"#\" in filename:\n",
    "            return filename.split(\"#\")[0]\n",
    "        return filename\n",
    "\n",
    "    def list_duplicates(self, path):\n",
    "        '''List all the duplicates (by name) in a folder'''\n",
    "        files = os.listdir(path)\n",
    "        duplicates = []\n",
    "        # Remove the hash from the filename and compare then the filename \n",
    "        files = [self.remove_hash(file) for file in files]\n",
    "        # Count the occurrences of each file name\n",
    "        file_counts = Counter(files)\n",
    "        # Find the files that have duplicates\n",
    "        for file, count in tqdm.tqdm(file_counts.items(), desc=\"Processing duplicates\"):\n",
    "            if count > 1:\n",
    "                duplicates.append(file)\n",
    "        return duplicates\n",
    "    \n",
    "    def remove_duplicates(self, duplicates, path):\n",
    "        ''' Deletes the duplicates in a folder'''\n",
    "        #+ duplicates = [filename, filename, filename] # without the hash\n",
    "        #+ path = \"/path/to/folder\"\n",
    "        removed_files = []\n",
    "        for file in duplicates:\n",
    "            # Delete the first occurence of the file within the path, careful the duplicates list value is not the same as the file name, but its the starting part of the file name\n",
    "            for existing_file in os.listdir(path):\n",
    "                if existing_file.startswith(file):\n",
    "                    os.remove(os.path.join(path, existing_file))\n",
    "                    removed_files.append(existing_file)\n",
    "                    break\n",
    "        return removed_files\n",
    "\n",
    "preselector = FilenamePreselector(DEFAULT_DIR)\n",
    "files_splitted_in_folders = preselector.sort_by_extension()\n",
    "# Get keys from the Counter object\n",
    "folders_path = list(files_splitted_in_folders.keys())\n",
    "print(f\"Folders Path: {folders_path}\")\n",
    "\n",
    "for folder_path in folders_path:\n",
    "    print(f\"Folder: {folder_path}\")\n",
    "    print(f\"Number of files: {files_splitted_in_folders[folder_path]}\")\n",
    "    # List duplicates in the folder\n",
    "    duplicates = preselector.list_duplicates(folder_path)\n",
    "    print(f\"number Duplicates: {len(duplicates)}\")\n",
    "    print(f\"Duplicates: {duplicates}\")\n",
    "\n",
    "    # Remove duplicates in the folder\n",
    "    removed_files = preselector.remove_duplicates(duplicates, folder_path)\n",
    "    print(f\"Removed files: {removed_files}\")\n",
    "    print(f\"Number of files after removing duplicates: {len(os.listdir(folder_path))}\")\n",
    "            "
   ]
  },
  {
   "cell_type": "code",
   "execution_count": null,
   "metadata": {},
   "outputs": [],
   "source": [
    "class AmbassadorLLM:\n",
    "    ''' \n",
    "    Talks with the LLM \n",
    "    - Establishes connections\n",
    "    - Sends prompt\n",
    "    - Makes sure the returned answer is in the right format\n",
    "    '''\n",
    "    def __init__(self, body):\n",
    "        self.url = \"http://localhost:11434/api/generate\"\n",
    "        self.body = body # {model, prompt, stream}\n",
    "    \n",
    "    def ask(self, prompt, attached_file):\n",
    "        self.body['prompt'] = self.merge_prompt(prompt, attached_file)\n",
    "        response = requests.post(\n",
    "            self.url,\n",
    "            json=self.body\n",
    "        )\n",
    "        if response.status_code != 200:\n",
    "            # Throw an error if the response status code is not 200\n",
    "            raise Exception(f\"Error: Received status code {response.status_code} from LLM API\")\n",
    "        else:\n",
    "            data = json.loads(response.text)\n",
    "            return data\n",
    "    \n",
    "    def merge_prompt(self, prompt, attached_file):\n",
    "        with open(attached_file, 'r', encoding='utf-8') as file:\n",
    "            soup = BeautifulSoup(file, 'html.parser')\n",
    "        cleaned_file_content = self.clean_text(soup.get_text())\n",
    "        return f\"{prompt}\\n\\n{\"Here the html file:\"}\\n{cleaned_file_content}\"\n",
    "    \n",
    "    def clean_text(self, text):\n",
    "        # Remove non-alphanumeric characters (except spaces)\n",
    "        text = re.sub(r'[^a-zA-Z0-9\\s]', '', text)\n",
    "        # Replace multiple spaces and newlines with a single space\n",
    "        text = re.sub(r'\\s+', ' ', text).strip()\n",
    "        return text\n",
    "    \n",
    "    def verify_prompt_answer_format(value):\n",
    "        if isinstance(value, dict):\n",
    "            return True\n",
    "        return False\n",
    "\n",
    "body = {\n",
    "    \"model\": \"deepseek-r1:1.5b\",\n",
    "    \"prompt\": \"\",\n",
    "    \"stream\": False\n",
    "}\n",
    "path = folder_path[5] # should be Threads\n",
    "prompt = \"Extract the required data from the HTML file.\"\n",
    "deepseek = AmbassadorLLM(body)\n",
    "\n",
    "# Loop through all files in the specified folder path\n",
    "for file in tqdm(os.listdir(path), desc=\"Processing files\"):\n",
    "    file_path = os.path.join(path, file)\n",
    "    if os.path.isfile(file_path):\n",
    "        try:\n",
    "            # Call the deepseek.ask() function with a prompt and the file path\n",
    "            result = deepseek.ask(prompt, file_path)\n",
    "            # Process the result (e.g., append to a DataFrame or save to a file)\n",
    "            # Assuming result is a dictionary matching the DataFrame columns\n",
    "            with open(df_path, \"a\", encoding=\"utf-8\") as f:\n",
    "                f.write(pd.DataFrame([result]).to_csv(header=False, index=False))\n",
    "        except Exception as e:\n",
    "            print(f\"Error processing file {file}: {e}\")\n",
    "\n",
    "# Save the updated DataFrame to the CSV file\n",
    "df.to_csv(DEFAULT_DIR / \"data.csv\", index=False)"
   ]
  },
  {
   "cell_type": "code",
   "execution_count": null,
   "metadata": {},
   "outputs": [],
   "source": []
  },
  {
   "cell_type": "code",
   "execution_count": null,
   "metadata": {},
   "outputs": [],
   "source": [
    "# Move all files recursivle from the folders within the DEFAULT_DIR to the DEFAULT_DIR\n",
    "for folder in folders:\n",
    "    folder_path = os.path.join(DEFAULT_DIR, folder)\n",
    "    for filename in os.listdir(folder_path):\n",
    "        source_path = os.path.join(folder_path, filename)\n",
    "        destination_path = os.path.join(DEFAULT_DIR, filename)\n",
    "        # If file already exists, overwrite it\n",
    "        shutil.move(source_path, destination_path)"
   ]
  },
  {
   "cell_type": "code",
   "execution_count": 22,
   "metadata": {},
   "outputs": [
    {
     "name": "stdout",
     "output_type": "stream",
     "text": [
      "Deleted folder: ../data/media\n",
      "Deleted folder: ../data/preview\n",
      "Deleted folder: ../data/static\n",
      "Deleted folder: ../data/boards\n",
      "Deleted folder: ../data/other\n",
      "Deleted folder: ../data/threads\n"
     ]
    }
   ],
   "source": [
    "# Delete all folders within the DEFAULT_DIR\n",
    "for folder in folders:\n",
    "    folder_path = os.path.join(DEFAULT_DIR, folder)\n",
    "    if os.path.exists(folder_path):\n",
    "        shutil.rmtree(folder_path)\n",
    "        print(f\"Deleted folder: {folder_path}\")\n",
    "    else:\n",
    "        print(f\"Folder does not exist: {folder_path}\")"
   ]
  },
  {
   "cell_type": "code",
   "execution_count": 28,
   "metadata": {},
   "outputs": [
    {
     "name": "stdout",
     "output_type": "stream",
     "text": [
      "<class 'pandas.core.frame.DataFrame'>\n",
      "RangeIndex: 2306543 entries, 0 to 2306542\n",
      "Data columns (total 6 columns):\n",
      " #   Column          Dtype         \n",
      "---  ------          -----         \n",
      " 0   originFile      object        \n",
      " 1   messageId       object        \n",
      " 2   threadId        object        \n",
      " 3   datetime        datetime64[ns]\n",
      " 4   messageContent  object        \n",
      " 5   summary         object        \n",
      "dtypes: datetime64[ns](1), object(5)\n",
      "memory usage: 105.6+ MB\n",
      "None\n"
     ]
    }
   ],
   "source": [
    "# read file\n",
    "format = {\n",
    "    \"threadId\": str,\n",
    "    \"messageId\": str,\n",
    "    \"messageContent\": str,\n",
    "}\n",
    "path = os.path.join(DEFAULT_DIR, \"data.csv\")\n",
    "df = pd.read_csv(path, dtype=format, parse_dates=[\"datetime\"])\n",
    "print(df.info())"
   ]
  },
  {
   "cell_type": "code",
   "execution_count": 29,
   "metadata": {},
   "outputs": [
    {
     "data": {
      "text/html": [
       "<div>\n",
       "<style scoped>\n",
       "    .dataframe tbody tr th:only-of-type {\n",
       "        vertical-align: middle;\n",
       "    }\n",
       "\n",
       "    .dataframe tbody tr th {\n",
       "        vertical-align: top;\n",
       "    }\n",
       "\n",
       "    .dataframe thead th {\n",
       "        text-align: right;\n",
       "    }\n",
       "</style>\n",
       "<table border=\"1\" class=\"dataframe\">\n",
       "  <thead>\n",
       "    <tr style=\"text-align: right;\">\n",
       "      <th></th>\n",
       "      <th>originFile</th>\n",
       "      <th>messageId</th>\n",
       "      <th>threadId</th>\n",
       "      <th>datetime</th>\n",
       "      <th>messageContent</th>\n",
       "      <th>summary</th>\n",
       "    </tr>\n",
       "  </thead>\n",
       "  <tbody>\n",
       "    <tr>\n",
       "      <th>count</th>\n",
       "      <td>2306543</td>\n",
       "      <td>2306543</td>\n",
       "      <td>2306543</td>\n",
       "      <td>2035524</td>\n",
       "      <td>2108638</td>\n",
       "      <td>2108638</td>\n",
       "    </tr>\n",
       "    <tr>\n",
       "      <th>unique</th>\n",
       "      <td>3865</td>\n",
       "      <td>33296</td>\n",
       "      <td>46</td>\n",
       "      <td>NaN</td>\n",
       "      <td>30995</td>\n",
       "      <td>1</td>\n",
       "    </tr>\n",
       "    <tr>\n",
       "      <th>top</th>\n",
       "      <td>enxx3byspwsdo446jujc52ucy2pf5urdbhqw3kbsfhlfjw...</td>\n",
       "      <td>25551</td>\n",
       "      <td>qanonresearch</td>\n",
       "      <td>NaN</td>\n",
       "      <td>&gt;&gt;25701</td>\n",
       "      <td>Summary of the messageContent</td>\n",
       "    </tr>\n",
       "    <tr>\n",
       "      <th>freq</th>\n",
       "      <td>798</td>\n",
       "      <td>705</td>\n",
       "      <td>2263694</td>\n",
       "      <td>NaN</td>\n",
       "      <td>2088</td>\n",
       "      <td>2108638</td>\n",
       "    </tr>\n",
       "    <tr>\n",
       "      <th>mean</th>\n",
       "      <td>NaN</td>\n",
       "      <td>NaN</td>\n",
       "      <td>NaN</td>\n",
       "      <td>2019-10-27 11:40:46.091364352</td>\n",
       "      <td>NaN</td>\n",
       "      <td>NaN</td>\n",
       "    </tr>\n",
       "    <tr>\n",
       "      <th>min</th>\n",
       "      <td>NaN</td>\n",
       "      <td>NaN</td>\n",
       "      <td>NaN</td>\n",
       "      <td>2016-01-09 05:25:26</td>\n",
       "      <td>NaN</td>\n",
       "      <td>NaN</td>\n",
       "    </tr>\n",
       "    <tr>\n",
       "      <th>25%</th>\n",
       "      <td>NaN</td>\n",
       "      <td>NaN</td>\n",
       "      <td>NaN</td>\n",
       "      <td>2019-10-25 07:27:08</td>\n",
       "      <td>NaN</td>\n",
       "      <td>NaN</td>\n",
       "    </tr>\n",
       "    <tr>\n",
       "      <th>50%</th>\n",
       "      <td>NaN</td>\n",
       "      <td>NaN</td>\n",
       "      <td>NaN</td>\n",
       "      <td>2019-10-26 22:17:47</td>\n",
       "      <td>NaN</td>\n",
       "      <td>NaN</td>\n",
       "    </tr>\n",
       "    <tr>\n",
       "      <th>75%</th>\n",
       "      <td>NaN</td>\n",
       "      <td>NaN</td>\n",
       "      <td>NaN</td>\n",
       "      <td>2019-10-28 03:29:14</td>\n",
       "      <td>NaN</td>\n",
       "      <td>NaN</td>\n",
       "    </tr>\n",
       "    <tr>\n",
       "      <th>max</th>\n",
       "      <td>NaN</td>\n",
       "      <td>NaN</td>\n",
       "      <td>NaN</td>\n",
       "      <td>2022-08-07 04:17:52</td>\n",
       "      <td>NaN</td>\n",
       "      <td>NaN</td>\n",
       "    </tr>\n",
       "  </tbody>\n",
       "</table>\n",
       "</div>"
      ],
      "text/plain": [
       "                                               originFile messageId  \\\n",
       "count                                             2306543   2306543   \n",
       "unique                                               3865     33296   \n",
       "top     enxx3byspwsdo446jujc52ucy2pf5urdbhqw3kbsfhlfjw...     25551   \n",
       "freq                                                  798       705   \n",
       "mean                                                  NaN       NaN   \n",
       "min                                                   NaN       NaN   \n",
       "25%                                                   NaN       NaN   \n",
       "50%                                                   NaN       NaN   \n",
       "75%                                                   NaN       NaN   \n",
       "max                                                   NaN       NaN   \n",
       "\n",
       "             threadId                       datetime messageContent  \\\n",
       "count         2306543                        2035524        2108638   \n",
       "unique             46                            NaN          30995   \n",
       "top     qanonresearch                            NaN        >>25701   \n",
       "freq          2263694                            NaN           2088   \n",
       "mean              NaN  2019-10-27 11:40:46.091364352            NaN   \n",
       "min               NaN            2016-01-09 05:25:26            NaN   \n",
       "25%               NaN            2019-10-25 07:27:08            NaN   \n",
       "50%               NaN            2019-10-26 22:17:47            NaN   \n",
       "75%               NaN            2019-10-28 03:29:14            NaN   \n",
       "max               NaN            2022-08-07 04:17:52            NaN   \n",
       "\n",
       "                              summary  \n",
       "count                         2108638  \n",
       "unique                              1  \n",
       "top     Summary of the messageContent  \n",
       "freq                          2108638  \n",
       "mean                              NaN  \n",
       "min                               NaN  \n",
       "25%                               NaN  \n",
       "50%                               NaN  \n",
       "75%                               NaN  \n",
       "max                               NaN  "
      ]
     },
     "execution_count": 29,
     "metadata": {},
     "output_type": "execute_result"
    }
   ],
   "source": [
    "df.describe(include='all')"
   ]
  },
  {
   "cell_type": "code",
   "execution_count": 30,
   "metadata": {},
   "outputs": [
    {
     "data": {
      "text/plain": [
       "originFile             0\n",
       "messageId              0\n",
       "threadId               0\n",
       "datetime          271019\n",
       "messageContent    197905\n",
       "summary           197905\n",
       "dtype: int64"
      ]
     },
     "execution_count": 30,
     "metadata": {},
     "output_type": "execute_result"
    }
   ],
   "source": [
    "# Null values\n",
    "df.isnull().sum()"
   ]
  },
  {
   "cell_type": "code",
   "execution_count": 21,
   "metadata": {},
   "outputs": [
    {
     "data": {
      "image/png": "[encoded data removed]",
      "text/plain": [
       "<Figure size 1000x600 with 1 Axes>"
      ]
     },
     "metadata": {},
     "output_type": "display_data"
    }
   ],
   "source": [
    "import matplotlib.pyplot as plt\n",
    "import seaborn as sns\n",
    "\n",
    "# Datetime examine how many messages per day\n",
    "df['datetime'] = pd.to_datetime(df['datetime'], errors='coerce')\n",
    "df['date'] = df['datetime'].dt.date\n",
    "df['date'] = pd.to_datetime(df['date'])\n",
    "# Count the number of messages per day\n",
    "messages_per_day = df['date'].value_counts().sort_index()\n",
    "# Plot the number of messages per day\n",
    "plt.figure(figsize=(10, 6))\n",
    "plt.plot(messages_per_day.index, messages_per_day.values)\n",
    "plt.xlabel('Date')\n",
    "plt.ylabel('Number of messages')\n",
    "plt.title('Number of messages per day')\n",
    "plt.xticks(rotation=45)\n",
    "plt.grid()\n",
    "plt.show()"
   ]
  },
  {
   "cell_type": "code",
   "execution_count": null,
   "metadata": {},
   "outputs": [
    {
     "data": {
      "image/png": "[encoded data removed]",
      "text/plain": [
       "<Figure size 1000x600 with 1 Axes>"
      ]
     },
     "metadata": {},
     "output_type": "display_data"
    }
   ],
   "source": [
    "# Count the number of messages per thread and sort in descending order\n",
    "thread_message_counts = df['threadId'].value_counts().sort_values(ascending=False).head(10)\n",
    "\n",
    "# Plot the top 10 threads by number of messages\n",
    "plt.figure(figsize=(10, 6))\n",
    "sns.barplot(x=thread_message_counts.index, y=thread_message_counts.values)\n",
    "plt.xlabel('Thread ID')\n",
    "plt.ylabel('Number of messages')\n",
    "plt.title('Top 10 Threads by Number of Messages')\n",
    "plt.xticks(rotation=45)\n",
    "plt.yscale('log')  # Set the y-axis to logarithmic scale\n",
    "plt.grid()\n",
    "plt.show()\n"
   ]
  }
 ],
 "metadata": {
  "kernelspec": {
   "display_name": "Python 3",
   "language": "python",
   "name": "python3"
  },
  "language_info": {
   "codemirror_mode": {
    "name": "ipython",
    "version": 3
   },
   "file_extension": ".py",
   "mimetype": "text/x-python",
   "name": "python",
   "nbconvert_exporter": "python",
   "pygments_lexer": "ipython3",
   "version": "3.12.6"
  }
 },
 "nbformat": 4,
 "nbformat_minor": 2
}
